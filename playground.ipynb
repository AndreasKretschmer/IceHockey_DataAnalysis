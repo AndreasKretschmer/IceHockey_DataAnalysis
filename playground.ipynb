{
 "cells": [
  {
   "cell_type": "code",
   "execution_count": 1,
   "metadata": {},
   "outputs": [],
   "source": [
    "import pandas as pd\n",
    "import urllib\n",
    "\n",
    "teams = pd.read_csv('data\\\\team_info.csv')"
   ]
  },
  {
   "cell_type": "code",
   "execution_count": 9,
   "metadata": {},
   "outputs": [],
   "source": [
    "def retrieve_logo(url, name):\n",
    "    try:\n",
    "        urllib.request.urlretrieve(url, 'assets\\\\logos\\\\' + name + '.svg')\n",
    "    except:\n",
    "        print(name)"
   ]
  },
  {
   "cell_type": "code",
   "execution_count": 8,
   "metadata": {},
   "outputs": [
    {
     "name": "stdout",
     "output_type": "stream",
     "text": [
      "Phoenix\n",
      "Dallas\n",
      "Atlanta\n"
     ]
    }
   ],
   "source": [
    "##get Team Logos\n",
    "for index, row in teams.iterrows():\n",
    "    url = urllib.parse.urljoin('https://assets.nhle.com/logos/nhl/svg/', row['abbreviation'] + '_light.svg')\n",
    "    retrieve_logo(url, row['abbreviation'])"
   ]
  },
  {
   "cell_type": "code",
   "execution_count": 5,
   "metadata": {},
   "outputs": [],
   "source": [
    "##get NHL Logo\n",
    "url = urllib.parse.urljoin('https://assets.nhle.com/logos/nhl/svg/', 'NHL_light.svg')\n",
    "retrieve_logo(url, 'NHL')"
   ]
  }
 ],
 "metadata": {
  "kernelspec": {
   "display_name": "Python 3",
   "language": "python",
   "name": "python3"
  },
  "language_info": {
   "codemirror_mode": {
    "name": "ipython",
    "version": 3
   },
   "file_extension": ".py",
   "mimetype": "text/x-python",
   "name": "python",
   "nbconvert_exporter": "python",
   "pygments_lexer": "ipython3",
   "version": "3.12.4"
  }
 },
 "nbformat": 4,
 "nbformat_minor": 2
}
