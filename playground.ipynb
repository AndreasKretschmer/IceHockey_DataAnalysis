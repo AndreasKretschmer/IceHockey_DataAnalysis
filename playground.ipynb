{
 "cells": [
  {
   "cell_type": "code",
   "execution_count": 22,
   "metadata": {},
   "outputs": [],
   "source": [
    "import pandas as pd\n",
    "import urllib\n",
    "pd.set_option('expand_frame_repr', False)\n",
    "teams = pd.read_csv('data\\\\team_info.csv')"
   ]
  },
  {
   "cell_type": "code",
   "execution_count": 3,
   "metadata": {},
   "outputs": [],
   "source": [
    "def retrieve_logo(url, name):\n",
    "    try:\n",
    "        urllib.request.urlretrieve(url, 'assets\\\\logos\\\\' + name + '.svg')\n",
    "    except:\n",
    "        print(name)"
   ]
  },
  {
   "cell_type": "code",
   "execution_count": 8,
   "metadata": {},
   "outputs": [
    {
     "name": "stdout",
     "output_type": "stream",
     "text": [
      "Phoenix\n",
      "Dallas\n",
      "Atlanta\n"
     ]
    }
   ],
   "source": [
    "##get Team Logos\n",
    "for index, row in teams.iterrows():\n",
    "    url = urllib.parse.urljoin('https://assets.nhle.com/logos/nhl/svg/', row['abbreviation'] + '_light.svg')\n",
    "    retrieve_logo(url, row['abbreviation'])\n",
    "\n",
    "##get NHL Logo\n",
    "url = urllib.parse.urljoin('https://assets.nhle.com/logos/nhl/svg/', 'NHL_light.svg')\n",
    "retrieve_logo(url, 'NHL')"
   ]
  },
  {
   "cell_type": "code",
   "execution_count": 10,
   "metadata": {},
   "outputs": [],
   "source": [
    "games = pd.read_csv('data\\\\game.csv')\n",
    "seasons = pd.DataFrame(sorted(games['season'].unique(), reverse=True), columns=['season_id'])\n",
    "seasons['season'] = seasons['season_id'].astype(str).apply(lambda x: x[:4] + '-' + x[4:])\n",
    "print(seasons)"
   ]
  },
  {
   "cell_type": "code",
   "execution_count": 28,
   "metadata": {},
   "outputs": [
    {
     "name": "stdout",
     "output_type": "stream",
     "text": [
      "       season  team_id type  won  goals    shots    hits     pim  powerPlayOpportunities  powerPlayGoals  faceOffWinPercentage  giveaways  takeaways  blocked\n",
      "0    20002001        1    R   48  295.0   2590.0     0.0  1235.0                   310.0            71.0                   NaN        0.0        0.0      0.0\n",
      "1    20002001        2    R   21  185.0   2257.0     0.0  1339.0                   386.0            51.0                   NaN        0.0        0.0      0.0\n",
      "2    20002001        3    R   33  250.0   2345.0     0.0  1522.0                   363.0            65.0                   NaN        0.0        0.0      0.0\n",
      "3    20002001        4    R   43  240.0   2452.0     0.0  1183.0                   350.0            55.0                   NaN        0.0        0.0      0.0\n",
      "4    20002001        5    R   42  281.0   2394.0     0.0  1585.0                   375.0            76.0                   NaN        0.0        0.0      0.0\n",
      "..        ...      ...  ...  ...    ...      ...     ...     ...                     ...             ...                   ...        ...        ...      ...\n",
      "743  20192020       54    R  168  956.0  10188.0  8024.0  2360.0                   808.0           180.0             49.775676     2524.0     2788.0   3984.0\n",
      "744  20192020       87    A    4   52.0    132.0     4.0     0.0                     0.0             0.0             30.650000       12.0       36.0      8.0\n",
      "745  20192020       88    A    0   20.0     64.0     0.0     0.0                     0.0             0.0             76.200000        0.0        8.0      4.0\n",
      "746  20192020       89    A    0   20.0     68.0     0.0     0.0                     0.0             0.0             65.000000        4.0       32.0      4.0\n",
      "747  20192020       90    A    8   60.0    192.0     0.0     0.0                     0.0             0.0             48.750000        8.0       48.0     12.0\n",
      "\n",
      "[748 rows x 14 columns]\n"
     ]
    }
   ],
   "source": [
    "game_team_stats = pd.read_csv('data\\\\game_teams_stats.csv')\n",
    "games = pd.read_csv('data\\\\game.csv')\n",
    "game_team_stats = pd.merge(game_team_stats, games[['game_id', 'season', 'type']], on=['game_id'], how='left')\n",
    "team_stats = game_team_stats.groupby(['season', 'team_id', 'type'])\\\n",
    "                        .agg({\n",
    "                             'won': 'sum', \n",
    "                             'goals': 'sum', \n",
    "                             'shots': 'sum',\n",
    "                             'hits': 'sum', \n",
    "                             'pim': 'sum', \n",
    "                             'powerPlayOpportunities':'sum', \n",
    "                             'powerPlayGoals': 'sum', \n",
    "                             'faceOffWinPercentage': 'mean',\n",
    "                             'giveaways': 'sum',\n",
    "                             'takeaways': 'sum',\n",
    "                             'blocked': 'sum'\n",
    "                            }).reset_index()\n",
    "print(team_stats)"
   ]
  }
 ],
 "metadata": {
  "kernelspec": {
   "display_name": "Python 3",
   "language": "python",
   "name": "python3"
  },
  "language_info": {
   "codemirror_mode": {
    "name": "ipython",
    "version": 3
   },
   "file_extension": ".py",
   "mimetype": "text/x-python",
   "name": "python",
   "nbconvert_exporter": "python",
   "pygments_lexer": "ipython3",
   "version": "3.12.4"
  }
 },
 "nbformat": 4,
 "nbformat_minor": 2
}
